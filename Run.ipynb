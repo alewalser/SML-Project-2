{
 "cells": [
  {
   "cell_type": "code",
   "execution_count": 5,
   "id": "398f63c4-38d2-434b-ad19-466d2ac3f2c8",
   "metadata": {},
   "outputs": [
    {
     "name": "stdout",
     "output_type": "stream",
     "text": [
      "[INFO]: Model checkpoints will be saved to: ./checkpoints/2025-06-02-12-03-33\n",
      "[INFO] Dataset mode: train\n",
      "[INFO] Number of images in the ETHMugsDataset: 454\n",
      "[INFO] Starting Fold 1/2\n",
      "[INFO]: Number of training epochs: 1\n",
      "[INFO]: Learning rate: 0.001\n",
      "[INFO]: Training batch size: 8\n",
      "[INFO] Dataset mode: train\n",
      "[INFO] Number of images in the ETHMugsDataset: 227\n",
      "[INFO] Dataset mode: hflip\n",
      "[INFO] Number of images in the ETHMugsDataset: 227\n",
      "[INFO] Dataset mode: vflip\n",
      "[INFO] Number of images in the ETHMugsDataset: 227\n",
      "[INFO] Dataset mode: val\n",
      "[INFO] Number of images in the ETHMugsDataset: 227\n",
      "[INFO]: Starting training...\n",
      "[INFO] Epoch 1/1, Loss: 0.6085, Time: 66.07s                                    \n",
      "[INFO]: Validation IoU: 0.39                                                    \n",
      "[INFO]: Best model saved at epoch 1\n",
      "[INFO] Fold 1 completed. Best model at ./checkpoints/2025-06-02-12-03-33/fold_1/best_model.pth\n",
      "[INFO] Starting Fold 2/2\n",
      "[INFO]: Number of training epochs: 1\n",
      "[INFO]: Learning rate: 0.001\n",
      "[INFO]: Training batch size: 8\n",
      "[INFO] Dataset mode: train\n",
      "[INFO] Number of images in the ETHMugsDataset: 227\n",
      "[INFO] Dataset mode: hflip\n",
      "[INFO] Number of images in the ETHMugsDataset: 227\n",
      "[INFO] Dataset mode: vflip\n",
      "[INFO] Number of images in the ETHMugsDataset: 227\n",
      "[INFO] Dataset mode: val\n",
      "[INFO] Number of images in the ETHMugsDataset: 227\n",
      "[INFO]: Starting training...\n",
      "[INFO] Epoch 1/1, Loss: 0.6586, Time: 65.60s                                    \n",
      "[INFO]: Validation IoU: 0.40                                                    \n",
      "[INFO]: Best model saved at epoch 1\n",
      "[INFO] Fold 2 completed. Best model at ./checkpoints/2025-06-02-12-03-33/fold_2/best_model.pth\n",
      "[INFO]: Using best models from ['./checkpoints/2025-06-02-12-03-33/fold_1/best_model.pth', './checkpoints/2025-06-02-12-03-33/fold_2/best_model.pth'] for prediction on test data.\n",
      "[INFO] Dataset mode: test\n",
      "[INFO] Number of images in the ETHMugsDataset: 300\n",
      "100%|█████████████████████████████████████████| 300/300 [02:30<00:00,  1.99it/s]\n",
      "[INFO]: Ensemble submission saved to ./checkpoints/2025-06-02-12-03-33/ensemble_prediction/submission.csv\n",
      "[INFO]: Predictions saved\n"
     ]
    }
   ],
   "source": [
    "#Traing and Validating Model on Train Data Set using k-fold cross validation\n",
    "!/cluster/courses/sml/jupyter/bin/python train.py \\\n",
    "  --kfold \\\n",
    "  --data_root ./datasets/train_data \\\n",
    "  --ckpt_dir ./checkpoints \\\n",
    "  --predict_test \\\n",
    "  --test_data_root ./datasets/test_data \\\n",
    "  --save_test_dir ./predictions"
   ]
  },
  {
   "cell_type": "code",
   "execution_count": null,
   "id": "ed7a4a6f-c3b0-4019-a076-c54e322a295c",
   "metadata": {},
   "outputs": [
    {
     "name": "stdout",
     "output_type": "stream",
     "text": [
      "[INFO]: Model checkpoints will be saved to: ./checkpoints/2025-06-04-13-14-51\n",
      "[INFO] Dataset mode: train\n",
      "[INFO] Number of images in the ETHMugsDataset: 454\n",
      "[INFO]: Number of training epochs: 1\n",
      "[INFO]: Learning rate: 0.001\n",
      "[INFO]: Training batch size: 8\n",
      "[INFO] Dataset mode: train\n",
      "[INFO] Number of images in the ETHMugsDataset: 363\n",
      "[INFO] Dataset mode: hflip\n",
      "[INFO] Number of images in the ETHMugsDataset: 363\n",
      "[INFO] Dataset mode: vflip\n",
      "[INFO] Number of images in the ETHMugsDataset: 363\n",
      "[INFO] Dataset mode: val\n",
      "[INFO] Number of images in the ETHMugsDataset: 91\n",
      "[INFO]: Starting training...\n",
      "[Epoch 1] Training:   3%|▋                      | 4/137 [00:03<01:54,  1.16it/s]"
     ]
    }
   ],
   "source": [
    "#Traing and Validating Model on Train Data Set using single train-validation split\n",
    "!/cluster/courses/sml/jupyter/bin/python train.py \\\n",
    "  --data_root ./datasets/train_data \\\n",
    "  --ckpt_dir ./checkpoints \\\n",
    "  --predict_test \\\n",
    "  --test_data_root ./datasets/test_data \\\n",
    "  --save_test_dir ./predictions"
   ]
  },
  {
   "cell_type": "code",
   "execution_count": null,
   "id": "7a70b290-c921-4c15-9f12-bee4d7351fac",
   "metadata": {},
   "outputs": [],
   "source": []
  }
 ],
 "metadata": {
  "kernelspec": {
   "display_name": "Python 3 (ipykernel)",
   "language": "python",
   "name": "python3"
  },
  "language_info": {
   "codemirror_mode": {
    "name": "ipython",
    "version": 3
   },
   "file_extension": ".py",
   "mimetype": "text/x-python",
   "name": "python",
   "nbconvert_exporter": "python",
   "pygments_lexer": "ipython3",
   "version": "3.12.3"
  }
 },
 "nbformat": 4,
 "nbformat_minor": 5
}
